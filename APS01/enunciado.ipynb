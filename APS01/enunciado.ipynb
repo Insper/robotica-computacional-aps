{
 "cells": [
  {
   "cell_type": "markdown",
   "metadata": {},
   "source": [
    "# APS01 - Enunciado"
   ]
  },
  {
   "cell_type": "markdown",
   "metadata": {},
   "source": [
    "## Imagens, formato RGB e matrizes"
   ]
  },
  {
   "cell_type": "markdown",
   "metadata": {},
   "source": [
    "**Nota:** estes exercícios deverão ser entregues no repositório da sua dupla.\n",
    "\n",
    "**Importante: Trabalhem sempre nos arquivos `.py`**\n",
    "\n",
    "Após editar o arquivo, reinicie o kernel do Jupyter e rode todas as células novamente para que os resultados sejam atualizados.\n",
    "Caso haja alguma incompatibilidade entre as entradas/saídas das funções e as chamadas no Jupyter, ajuste a função para que seja compatível com o notebook. \n",
    "\n",
    "*Na avaliação as imagens de teste podem ser substituídas por outras imagens similares mas com transformações (por exemplo deslocamento dos objetos) para verificar se seu código de fato funciona.* Você pode adicionar imagens suas de teste na pasta `img`, mas não pode remover nenhuma das que já estão lá.\n"
   ]
  },
  {
   "cell_type": "code",
   "execution_count": 1,
   "metadata": {},
   "outputs": [
    {
     "name": "stdout",
     "output_type": "stream",
     "text": [
      "OpenCV Version : 4.7.0 \n"
     ]
    }
   ],
   "source": [
    "# Faz todos os imports de uma vez\n",
    "%matplotlib inline\n",
    "import cv2\n",
    "from matplotlib import pyplot as plt\n",
    "import numpy as np\n",
    "import time as t\n",
    "\n",
    "print(\"OpenCV Version : %s \" % cv2.__version__)"
   ]
  },
  {
   "cell_type": "markdown",
   "metadata": {},
   "source": [
    "## Funções úteis"
   ]
  },
  {
   "cell_type": "code",
   "execution_count": null,
   "metadata": {},
   "outputs": [],
   "source": [
    "from histutil import *"
   ]
  },
  {
   "cell_type": "markdown",
   "metadata": {},
   "source": [
    "# Exercício 01 (Entrega obrigatória)"
   ]
  },
  {
   "cell_type": "code",
   "execution_count": null,
   "metadata": {
    "tags": []
   },
   "outputs": [],
   "source": [
    "rintin_gray = cv2.imread(\"img/RinTinTin.jpg\", cv2.IMREAD_GRAYSCALE)"
   ]
  },
  {
   "cell_type": "code",
   "execution_count": null,
   "metadata": {
    "tags": []
   },
   "outputs": [],
   "source": [
    "rintin_gray.shape"
   ]
  },
  {
   "cell_type": "code",
   "execution_count": null,
   "metadata": {},
   "outputs": [],
   "source": [
    "plt.imshow(rintin_gray, cmap=\"gray\", vmin=0, vmax=255)\n",
    "plt.show()"
   ]
  },
  {
   "cell_type": "code",
   "execution_count": null,
   "metadata": {},
   "outputs": [],
   "source": [
    "make_hist(rintin_gray,'r','Rintintin','k')"
   ]
  },
  {
   "cell_type": "markdown",
   "metadata": {},
   "source": [
    "\n",
    "\n",
    "Crie uma imagem derivada da imagem fornecida que use melhor a faixa dinâmica, ou seja, tenha o valor dos seus pixels distribuídos entre `0` e `255`. \n",
    "\n",
    "Trabalhe no arquivo [ex1.py](./ex1.py).\n",
    "\n",
    "## Resultado:"
   ]
  },
  {
   "cell_type": "code",
   "execution_count": null,
   "metadata": {},
   "outputs": [],
   "source": [
    "# Não modifique este script!!!\n",
    "from ex1 import equaliza\n",
    "\n",
    "rintin_melhorado = equaliza(rintin_gray)\n",
    "if rintin_melhorado is not None:\n",
    "    plt.imshow(rintin_melhorado, cmap='gray', vmin=0, vmax=255)\n",
    "    plt.show()\n",
    "    make_hist(rintin_melhorado, 'r', 'Melhorado', 'k')"
   ]
  },
  {
   "cell_type": "markdown",
   "metadata": {},
   "source": [
    "## Exercício 02 (Entrega obrigatória)"
   ]
  },
  {
   "cell_type": "markdown",
   "metadata": {},
   "source": [
    "Leia com a OpenCV a figura abaixo:\n",
    "\n",
    "![](img/cena_canto_sala.jpg)\n",
    "\n",
    "Vamos separar os canais  R e B das imagens e analise seus histogramas.\n",
    "\n",
    "Acompanhe a discussão do professor sobre se R e B e da análise do histograma é possível identificar a caixa vermelha e o creeper azul?\n",
    "\n",
    "*O que você deve fazer*\n",
    "\n",
    "Crie uma imagem numpy em que somente os pixels da caixa vermelha estão brancos e faça seu plot aqui. Você vai precisar usar manipulação de canais RGB. \n",
    "\n",
    "Olhe os exemplos [ExemploFor.ipynb](https://github.com/Insper/robot21.1/blob/main/aula01/aula1_02_ExemploFor.ipynb) e [exemplos de numpy](https://github.com/Insper/robot21.1/blob/main/aula01/aula1_03_numpy.ipynb)\n"
   ]
  },
  {
   "cell_type": "markdown",
   "metadata": {},
   "source": [
    "**Trabalhe no arquivo** [ex2.py](./ex2.py)"
   ]
  },
  {
   "cell_type": "markdown",
   "metadata": {},
   "source": [
    "Análise do histograma (não trabalhe aqui)"
   ]
  },
  {
   "cell_type": "code",
   "execution_count": null,
   "metadata": {
    "tags": []
   },
   "outputs": [],
   "source": [
    "cena = cv2.imread(\"img/cena_canto_sala.jpg\")\n",
    "plot_hists(cena[:,:,::-1])"
   ]
  },
  {
   "cell_type": "markdown",
   "metadata": {
    "tags": []
   },
   "source": [
    "## Resultado"
   ]
  },
  {
   "cell_type": "code",
   "execution_count": null,
   "metadata": {},
   "outputs": [],
   "source": [
    "# Não modifique este script!!!\n",
    "from ex2 import realca_caixa_vermelha\n",
    "\n",
    "cena_mod = realca_caixa_vermelha(cena)\n",
    "if cena_mod is not None:\n",
    "    plt.imshow(cena_mod[:,:,::-1])\n",
    "    plt.show()"
   ]
  },
  {
   "cell_type": "markdown",
   "metadata": {},
   "source": [
    "# Exercício 03 (Entrega obrigatória)"
   ]
  },
  {
   "cell_type": "markdown",
   "metadata": {},
   "source": [
    "O leopardo das neves é um animal que se camufla muito bem em terreno pedregoso e seco. A imagem a seguir mostra este animal"
   ]
  },
  {
   "cell_type": "markdown",
   "metadata": {},
   "source": [
    "![](img/ex3_recorte_leopardo.png)"
   ]
  },
  {
   "cell_type": "markdown",
   "metadata": {},
   "source": [
    "Para nos ajudar a localizá-lo foram definidos quadrados de 3x3 azuis e vermelhos.\n",
    "\n",
    "**O que você deve fazer**:\n",
    "\n",
    "* Usando código **encontrar** onde está o quadrado vermelho e onde está o quadrado azul\n",
    "\n",
    "* **Recortar** a imagem usando os cantos definidos pelo quadrado vermelho e azul\n",
    "\n",
    "* **Salvar** a sub imagem contida no recorte"
   ]
  },
  {
   "cell_type": "markdown",
   "metadata": {},
   "source": [
    "![](img/leopard_recortado.png)"
   ]
  },
  {
   "cell_type": "markdown",
   "metadata": {},
   "source": [
    "**Trabalhe** no arquivo [ex3.py](./ex3.py)"
   ]
  },
  {
   "cell_type": "markdown",
   "metadata": {},
   "source": [
    "## Resultado:"
   ]
  },
  {
   "cell_type": "code",
   "execution_count": null,
   "metadata": {},
   "outputs": [],
   "source": [
    "# Não modifique este script!!!\n",
    "from ex3 import recorta_leopardo\n",
    "\n",
    "cena = cv2.imread(\"img/ex3_recorte_leopardo.png\")\n",
    "cena_mod = recorta_leopardo(cena)\n",
    "if cena_mod is not None:\n",
    "    plt.imshow(cena_mod[:,:,::-1])\n",
    "    plt.show()"
   ]
  },
  {
   "cell_type": "markdown",
   "metadata": {},
   "source": [
    "# Exercício 04 (Entrega obrigatória)"
   ]
  },
  {
   "cell_type": "markdown",
   "metadata": {},
   "source": [
    "A imagem fornecida contém a bandeira da Antártida e a do Canadá"
   ]
  },
  {
   "cell_type": "markdown",
   "metadata": {},
   "source": [
    "![](img/ant_canada_250_160.png)"
   ]
  },
  {
   "cell_type": "markdown",
   "metadata": {},
   "source": [
    "O que deve ser feito: \n",
    "* Usando programação descobrir onde começa e termina a bandeira da Antártida\n",
    "* Recortar a sub imagem que é a bandeira da Antártida\n",
    "* Descobrir onde começa e termina a bandeira do Canadá\n",
    "* Recortar a sub imagem que é a bandeira do Canadá\n",
    "\n"
   ]
  },
  {
   "cell_type": "markdown",
   "metadata": {},
   "source": [
    "Trabalhe no arquivo [ex4.py](./ex4.py)"
   ]
  },
  {
   "cell_type": "markdown",
   "metadata": {},
   "source": [
    "## Resultado"
   ]
  },
  {
   "cell_type": "code",
   "execution_count": null,
   "metadata": {},
   "outputs": [],
   "source": [
    "# Não modifique este script!!!\n",
    "from ex4 import antartida, canada\n",
    "\n",
    "cena = cv2.imread(\"img/ant_canada_250_160.png\")\n",
    "ant = antartida(cena)\n",
    "can = canada(cena)\n",
    "if ant is not None:\n",
    "    plt.imshow(ant[:,:,::-1])\n",
    "    plt.show()\n",
    "\n",
    "if can is not None:\n",
    "    plt.imshow(can[:,:,::-1])\n",
    "    plt.show()"
   ]
  },
  {
   "cell_type": "markdown",
   "metadata": {},
   "source": [
    "# Exercício 05 (Desafio)\n",
    "\n",
    "\n",
    "Abra a imagem `hall_box_battery_atividade5.png`  e a converta para tons de cinza de `0` a `255`.\n",
    "\n",
    "![](img/hall_box_battery_atividade5.png)\n",
    "\n",
    "Forneça como saída uma uma cópia da imagem em *tons de cinza* em que cada pixel  recebe o módulo da subtração entre o pixel que vem depois e o que vem antes dele (na horizontal).\n",
    "\n",
    "Obs.: O conceito de *antes* e *depois* pode ser na horizontal ou na vertical\n",
    "\n",
    "Apresente a imagem resultado, deve ficar parecida com a imagem `gabarito_atividade_3.png`.\n",
    "\n",
    "![](img/gabarito_atividade_5.png)"
   ]
  },
  {
   "cell_type": "markdown",
   "metadata": {},
   "source": [
    "**Nota:** \n",
    "\n",
    "Na linha ou coluna  de índice `0` não existe pixel anterior\n",
    "\n",
    "Na última linha ou coluna não existe pixel posterior"
   ]
  },
  {
   "cell_type": "markdown",
   "metadata": {},
   "source": [
    "Trabalhe no arquivo [ex5.py](./ex5.py)"
   ]
  },
  {
   "cell_type": "markdown",
   "metadata": {},
   "source": [
    "## Resultado"
   ]
  },
  {
   "cell_type": "code",
   "execution_count": null,
   "metadata": {},
   "outputs": [],
   "source": [
    "# Não modifique este script!!!\n",
    "from ex5 import realiza_diferencas\n",
    "\n",
    "cena = cv2.imread(\"img/hall_box_battery_atividade5.png\")\n",
    "cena_mod = realiza_diferencas(cena)\n",
    "if cena_mod is not None:\n",
    "    plt.imshow(cena_mod, cmap='gray')\n",
    "    plt.show()"
   ]
  },
  {
   "cell_type": "markdown",
   "metadata": {},
   "source": [
    "# Exercício 06 (Desafio)"
   ]
  },
  {
   "cell_type": "markdown",
   "metadata": {},
   "source": [
    "Você vai trabalhar para imagens que contém alguns `X` feitos em preto e branco"
   ]
  },
  {
   "cell_type": "code",
   "execution_count": null,
   "metadata": {},
   "outputs": [],
   "source": [
    "cross = cv2.imread(\"img/06_cross_exemplo.png\", 0)"
   ]
  },
  {
   "cell_type": "code",
   "execution_count": null,
   "metadata": {},
   "outputs": [],
   "source": [
    "plt.imshow(cross, cmap=\"gray\", vmin=0, vmax=255)\n",
    "plt.show()"
   ]
  },
  {
   "cell_type": "markdown",
   "metadata": {},
   "source": [
    "**O que deve ser feito**\n",
    "\n",
    "Onde houver um padrão parecido com um X este padrão deve ser apagado por um quadrado com valores de pixel 127. "
   ]
  },
  {
   "cell_type": "code",
   "execution_count": null,
   "metadata": {},
   "outputs": [],
   "source": [
    "c_out = cv2.imread(\"img/06_cross_exemplo_saida.png\", 0)"
   ]
  },
  {
   "cell_type": "code",
   "execution_count": null,
   "metadata": {},
   "outputs": [],
   "source": [
    "plt.imshow(c_out,cmap=\"gray\", vmin=0, vmax=255)\n",
    "plt.show()"
   ]
  },
  {
   "cell_type": "markdown",
   "metadata": {},
   "source": [
    "A imagem que vai ser analisada é a [black_white_dots_cross_80_60.png](./black_white_dots_cross_80_60.png)"
   ]
  },
  {
   "cell_type": "code",
   "execution_count": null,
   "metadata": {},
   "outputs": [],
   "source": [
    "bwcross = cv2.imread(\"img/black_white_dots_cross_80_60.png\", 0)"
   ]
  },
  {
   "cell_type": "code",
   "execution_count": null,
   "metadata": {},
   "outputs": [],
   "source": [
    "plt.imshow(bwcross,cmap=\"gray\", vmin=0, vmax=255)\n",
    "plt.show()"
   ]
  },
  {
   "cell_type": "markdown",
   "metadata": {},
   "source": [
    "Trabalhe no arquivo [ex6.py](./ex6.py)"
   ]
  },
  {
   "cell_type": "markdown",
   "metadata": {},
   "source": [
    "## Resultado"
   ]
  },
  {
   "cell_type": "code",
   "execution_count": null,
   "metadata": {},
   "outputs": [],
   "source": [
    "# Não modifique este script!!!\n",
    "from ex6 import substitui_x_por_branco\n",
    "\n",
    "cena_mod = substitui_x_por_branco(bwcross)\n",
    "if cena_mod is not None:\n",
    "    plt.imshow(cena_mod, cmap='gray')\n",
    "    plt.show()"
   ]
  }
 ],
 "metadata": {
  "kernelspec": {
   "display_name": "Python 3",
   "language": "python",
   "name": "python3"
  },
  "language_info": {
   "codemirror_mode": {
    "name": "ipython",
    "version": 3
   },
   "file_extension": ".py",
   "mimetype": "text/x-python",
   "name": "python",
   "nbconvert_exporter": "python",
   "pygments_lexer": "ipython3",
   "version": "3.10.6"
  },
  "vscode": {
   "interpreter": {
    "hash": "b0fa6594d8f4cbf19f97940f81e996739fb7646882a419484c72d19e05852a7e"
   }
  }
 },
 "nbformat": 4,
 "nbformat_minor": 4
}
